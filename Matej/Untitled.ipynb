{
 "cells": [
  {
   "cell_type": "code",
   "execution_count": 2,
   "id": "9a6233bd-d1c1-44d7-adf1-ed722942f6cd",
   "metadata": {},
   "outputs": [],
   "source": [
    "from rdkit import Chem"
   ]
  },
  {
   "cell_type": "markdown",
   "id": "f70042d0-b4ba-40d2-91b7-31cc85903d57",
   "metadata": {},
   "source": [
    "m = Chem.MolFromSmiles(\"O=C(C)Oc1ccccc1C(=O)O\")"
   ]
  },
  {
   "cell_type": "code",
   "execution_count": null,
   "id": "fb7eea31-b2be-41ad-aef2-fd221930a305",
   "metadata": {},
   "outputs": [],
   "source": []
  }
 ],
 "metadata": {
  "kernelspec": {
   "display_name": "Python 3 (ipykernel)",
   "language": "python",
   "name": "python3"
  },
  "language_info": {
   "codemirror_mode": {
    "name": "ipython",
    "version": 3
   },
   "file_extension": ".py",
   "mimetype": "text/x-python",
   "name": "python",
   "nbconvert_exporter": "python",
   "pygments_lexer": "ipython3",
   "version": "3.12.2"
  }
 },
 "nbformat": 4,
 "nbformat_minor": 5
}
