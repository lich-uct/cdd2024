{
 "cells": [
  {
   "cell_type": "code",
   "execution_count": 109,
   "id": "initial_id",
   "metadata": {
    "collapsed": true,
    "ExecuteTime": {
     "end_time": "2024-03-21T11:58:13.887121Z",
     "start_time": "2024-03-21T11:58:13.883883Z"
    }
   },
   "outputs": [],
   "source": [
    "from rdkit.Chem import AllChem as Chem\n",
    "from rdkit.Chem import MACCSkeys\n",
    "# import modin.pandas as pd"
   ]
  },
  {
   "cell_type": "code",
   "outputs": [
    {
     "data": {
      "text/plain": "('[#104]', 0)"
     },
     "execution_count": 13,
     "metadata": {},
     "output_type": "execute_result"
    }
   ],
   "source": [
    "MACCSkeys.smartsPatts[2]"
   ],
   "metadata": {
    "collapsed": false,
    "ExecuteTime": {
     "end_time": "2024-03-21T11:15:04.285446Z",
     "start_time": "2024-03-21T11:15:04.280783Z"
    }
   },
   "id": "e4fde1880206d73f",
   "execution_count": 13
  },
  {
   "cell_type": "code",
   "outputs": [
    {
     "name": "stderr",
     "output_type": "stream",
     "text": [
      "[12:28:32] SMARTS Parse Error: syntax error while parsing: ?\n",
      "[12:28:32] SMARTS Parse Error: Failed parsing SMARTS '?' for input: '?'\n",
      "[12:28:32] SMARTS Parse Error: syntax error while parsing: ?\n",
      "[12:28:32] SMARTS Parse Error: Failed parsing SMARTS '?' for input: '?'\n",
      "[12:28:32] SMARTS Parse Error: syntax error while parsing: ?\n",
      "[12:28:32] SMARTS Parse Error: Failed parsing SMARTS '?' for input: '?'\n"
     ]
    }
   ],
   "source": [
    "maccs = []\n",
    "for idx, (patt, ni) in MACCSkeys.smartsPatts.items():\n",
    "    sm = Chem.MolFromSmarts(patt)\n",
    "    if sm:\n",
    "        maccs.append(sm)\n",
    "    else:\n",
    "        maccs.append(None)"
   ],
   "metadata": {
    "collapsed": false,
    "ExecuteTime": {
     "end_time": "2024-03-21T11:28:32.093845Z",
     "start_time": "2024-03-21T11:28:32.089325Z"
    }
   },
   "id": "ceb2bd8319a1c3de",
   "execution_count": 49
  },
  {
   "cell_type": "code",
   "outputs": [
    {
     "name": "stderr",
     "output_type": "stream",
     "text": [
      "[12:24:36] Explicit valence for atom # 7 N, 4, is greater than permitted\n",
      "[12:24:36] ERROR: Could not sanitize molecule ending on line 20009\n",
      "[12:24:36] ERROR: Explicit valence for atom # 7 N, 4, is greater than permitted\n",
      "[12:24:36] Can't kekulize mol.  Unkekulized atoms: 1 2 3 5 6 7 8 9 10\n",
      "[12:24:36] ERROR: Could not sanitize molecule ending on line 250947\n",
      "[12:24:36] ERROR: Can't kekulize mol.  Unkekulized atoms: 1 2 3 5 6 7 8 9 10\n",
      "[12:24:36] Explicit valence for atom # 17 O, 3, is greater than permitted\n",
      "[12:24:36] ERROR: Could not sanitize molecule ending on line 258130\n",
      "[12:24:36] ERROR: Explicit valence for atom # 17 O, 3, is greater than permitted\n",
      "[12:24:36] Can't kekulize mol.  Unkekulized atoms: 57 58 59 60 61 62 63 64 65\n",
      "[12:24:36] ERROR: Could not sanitize molecule ending on line 261581\n",
      "[12:24:36] ERROR: Can't kekulize mol.  Unkekulized atoms: 57 58 59 60 61 62 63 64 65\n",
      "[12:24:36] Explicit valence for atom # 47 Mg, 4, is greater than permitted\n",
      "[12:24:36] ERROR: Could not sanitize molecule ending on line 272221\n",
      "[12:24:36] ERROR: Explicit valence for atom # 47 Mg, 4, is greater than permitted\n",
      "[12:24:36] Can't kekulize mol.  Unkekulized atoms: 0 1 2 6 7 8 9 10 11 12 13 14 15 16 17\n",
      "[12:24:36] ERROR: Could not sanitize molecule ending on line 280661\n",
      "[12:24:36] ERROR: Can't kekulize mol.  Unkekulized atoms: 0 1 2 6 7 8 9 10 11 12 13 14 15 16 17\n",
      "[12:24:36] Explicit valence for atom # 13 Cl, 5, is greater than permitted\n",
      "[12:24:36] ERROR: Could not sanitize molecule ending on line 282635\n",
      "[12:24:36] ERROR: Explicit valence for atom # 13 Cl, 5, is greater than permitted\n",
      "[12:24:36] Can't kekulize mol.  Unkekulized atoms: 3 4 5 6 7 8 10 11 12\n",
      "[12:24:36] ERROR: Could not sanitize molecule ending on line 292762\n",
      "[12:24:36] ERROR: Can't kekulize mol.  Unkekulized atoms: 3 4 5 6 7 8 10 11 12\n",
      "[12:24:36] Can't kekulize mol.  Unkekulized atoms: 0 1 2 4 5 6 7 8 9 10\n",
      "[12:24:36] ERROR: Could not sanitize molecule ending on line 293836\n",
      "[12:24:36] ERROR: Can't kekulize mol.  Unkekulized atoms: 0 1 2 4 5 6 7 8 9 10\n",
      "[12:24:36] Can't kekulize mol.  Unkekulized atoms: 2 3 4 5 6 7 8 9 10\n",
      "[12:24:36] ERROR: Could not sanitize molecule ending on line 302815\n",
      "[12:24:36] ERROR: Can't kekulize mol.  Unkekulized atoms: 2 3 4 5 6 7 8 9 10\n",
      "[12:24:36] Can't kekulize mol.  Unkekulized atoms: 13 14 15 16 22\n",
      "[12:24:36] ERROR: Could not sanitize molecule ending on line 304047\n",
      "[12:24:36] ERROR: Can't kekulize mol.  Unkekulized atoms: 13 14 15 16 22\n",
      "[12:24:36] Explicit valence for atom # 46 Mg, 4, is greater than permitted\n",
      "[12:24:36] ERROR: Could not sanitize molecule ending on line 312454\n",
      "[12:24:36] ERROR: Explicit valence for atom # 46 Mg, 4, is greater than permitted\n",
      "[12:24:36] Explicit valence for atom # 27 N, 4, is greater than permitted\n",
      "[12:24:36] ERROR: Could not sanitize molecule ending on line 317905\n",
      "[12:24:36] ERROR: Explicit valence for atom # 27 N, 4, is greater than permitted\n",
      "[12:24:36] Explicit valence for atom # 16 N, 4, is greater than permitted\n",
      "[12:24:36] ERROR: Could not sanitize molecule ending on line 318439\n",
      "[12:24:36] ERROR: Explicit valence for atom # 16 N, 4, is greater than permitted\n",
      "[12:24:36] Can't kekulize mol.  Unkekulized atoms: 3 4 5 6 54\n",
      "[12:24:36] ERROR: Could not sanitize molecule ending on line 324910\n",
      "[12:24:36] ERROR: Can't kekulize mol.  Unkekulized atoms: 3 4 5 6 54\n",
      "[12:24:36] Can't kekulize mol.  Unkekulized atoms: 3 4 5 6 7\n",
      "[12:24:36] ERROR: Could not sanitize molecule ending on line 326050\n",
      "[12:24:36] ERROR: Can't kekulize mol.  Unkekulized atoms: 3 4 5 6 7\n",
      "[12:24:36] Can't kekulize mol.  Unkekulized atoms: 2 3 4 5 11\n",
      "[12:24:36] ERROR: Could not sanitize molecule ending on line 331986\n",
      "[12:24:36] ERROR: Can't kekulize mol.  Unkekulized atoms: 2 3 4 5 11\n",
      "[12:24:36] Can't kekulize mol.  Unkekulized atoms: 1 2 3 4 5 6 7 8 9\n",
      "[12:24:36] ERROR: Could not sanitize molecule ending on line 333287\n",
      "[12:24:36] ERROR: Can't kekulize mol.  Unkekulized atoms: 1 2 3 4 5 6 7 8 9\n",
      "[12:24:36] Can't kekulize mol.  Unkekulized atoms: 3 4 5 6 7\n",
      "[12:24:36] ERROR: Could not sanitize molecule ending on line 347574\n",
      "[12:24:36] ERROR: Can't kekulize mol.  Unkekulized atoms: 3 4 5 6 7\n",
      "[12:24:36] Can't kekulize mol.  Unkekulized atoms: 5 6 7 8 9 10 11 12 13\n",
      "[12:24:36] ERROR: Could not sanitize molecule ending on line 357505\n",
      "[12:24:36] ERROR: Can't kekulize mol.  Unkekulized atoms: 5 6 7 8 9 10 11 12 13\n",
      "[12:24:36] Can't kekulize mol.  Unkekulized atoms: 3 4 5 6 7\n",
      "[12:24:36] ERROR: Could not sanitize molecule ending on line 371006\n",
      "[12:24:36] ERROR: Can't kekulize mol.  Unkekulized atoms: 3 4 5 6 7\n",
      "[12:24:36] Can't kekulize mol.  Unkekulized atoms: 1 2 3 4 5 6 7 8 9\n",
      "[12:24:36] ERROR: Could not sanitize molecule ending on line 378618\n",
      "[12:24:36] ERROR: Can't kekulize mol.  Unkekulized atoms: 1 2 3 4 5 6 7 8 9\n",
      "[12:24:36] Explicit valence for atom # 56 O, 3, is greater than permitted\n",
      "[12:24:36] ERROR: Could not sanitize molecule ending on line 398455\n",
      "[12:24:36] ERROR: Explicit valence for atom # 56 O, 3, is greater than permitted\n",
      "[12:24:36] Can't kekulize mol.  Unkekulized atoms: 9 10 11 12 18\n",
      "[12:24:36] ERROR: Could not sanitize molecule ending on line 407765\n",
      "[12:24:36] ERROR: Can't kekulize mol.  Unkekulized atoms: 9 10 11 12 18\n",
      "[12:24:36] Explicit valence for atom # 46 Mg, 4, is greater than permitted\n",
      "[12:24:36] ERROR: Could not sanitize molecule ending on line 417941\n",
      "[12:24:36] ERROR: Explicit valence for atom # 46 Mg, 4, is greater than permitted\n",
      "[12:24:36] Can't kekulize mol.  Unkekulized atoms: 1 2 3 12 13 14 15 16 17\n",
      "[12:24:36] ERROR: Could not sanitize molecule ending on line 422810\n",
      "[12:24:36] ERROR: Can't kekulize mol.  Unkekulized atoms: 1 2 3 12 13 14 15 16 17\n",
      "[12:24:36] Can't kekulize mol.  Unkekulized atoms: 44 45 46 47 49\n",
      "[12:24:36] ERROR: Could not sanitize molecule ending on line 425190\n",
      "[12:24:36] ERROR: Can't kekulize mol.  Unkekulized atoms: 44 45 46 47 49\n",
      "[12:24:36] Explicit valence for atom # 8 N, 5, is greater than permitted\n",
      "[12:24:36] ERROR: Could not sanitize molecule ending on line 426332\n",
      "[12:24:36] ERROR: Explicit valence for atom # 8 N, 5, is greater than permitted\n",
      "[12:24:36] Can't kekulize mol.  Unkekulized atoms: 54 55 56 57 58 59 60 61 62\n",
      "[12:24:36] ERROR: Could not sanitize molecule ending on line 427901\n",
      "[12:24:36] ERROR: Can't kekulize mol.  Unkekulized atoms: 54 55 56 57 58 59 60 61 62\n",
      "[12:24:36] Can't kekulize mol.  Unkekulized atoms: 0 1 2 3 4 5 6 7 8\n",
      "[12:24:36] ERROR: Could not sanitize molecule ending on line 432118\n",
      "[12:24:36] ERROR: Can't kekulize mol.  Unkekulized atoms: 0 1 2 3 4 5 6 7 8\n",
      "[12:24:36] Can't kekulize mol.  Unkekulized atoms: 3 4 5 6 8 9 10\n",
      "[12:24:36] ERROR: Could not sanitize molecule ending on line 442989\n",
      "[12:24:36] ERROR: Can't kekulize mol.  Unkekulized atoms: 3 4 5 6 8 9 10\n",
      "[12:24:36] Can't kekulize mol.  Unkekulized atoms: 3 4 5 6 9\n",
      "[12:24:36] ERROR: Could not sanitize molecule ending on line 447465\n",
      "[12:24:36] ERROR: Can't kekulize mol.  Unkekulized atoms: 3 4 5 6 9\n",
      "[12:24:36] Can't kekulize mol.  Unkekulized atoms: 16 17 18 19 20\n",
      "[12:24:36] ERROR: Could not sanitize molecule ending on line 466177\n",
      "[12:24:36] ERROR: Can't kekulize mol.  Unkekulized atoms: 16 17 18 19 20\n",
      "[12:24:36] Can't kekulize mol.  Unkekulized atoms: 7 8 9 10 17\n",
      "[12:24:36] ERROR: Could not sanitize molecule ending on line 468852\n",
      "[12:24:36] ERROR: Can't kekulize mol.  Unkekulized atoms: 7 8 9 10 17\n",
      "[12:24:36] Can't kekulize mol.  Unkekulized atoms: 3 4 5 6 7 8 9 10 11\n",
      "[12:24:36] ERROR: Could not sanitize molecule ending on line 469201\n",
      "[12:24:36] ERROR: Can't kekulize mol.  Unkekulized atoms: 3 4 5 6 7 8 9 10 11\n",
      "[12:24:36] Explicit valence for atom # 53 N, 4, is greater than permitted\n",
      "[12:24:36] ERROR: Could not sanitize molecule ending on line 472285\n",
      "[12:24:36] ERROR: Explicit valence for atom # 53 N, 4, is greater than permitted\n",
      "[12:24:36] Can't kekulize mol.  Unkekulized atoms: 2 3 4 5 12\n",
      "[12:24:36] ERROR: Could not sanitize molecule ending on line 480504\n",
      "[12:24:36] ERROR: Can't kekulize mol.  Unkekulized atoms: 2 3 4 5 12\n",
      "[12:24:36] Explicit valence for atom # 2 O, 3, is greater than permitted\n",
      "[12:24:36] ERROR: Could not sanitize molecule ending on line 499305\n",
      "[12:24:36] ERROR: Explicit valence for atom # 2 O, 3, is greater than permitted\n",
      "[12:24:36] Can't kekulize mol.  Unkekulized atoms: 1 2 3 4 5 6 7 8 9\n",
      "[12:24:36] ERROR: Could not sanitize molecule ending on line 503342\n",
      "[12:24:36] ERROR: Can't kekulize mol.  Unkekulized atoms: 1 2 3 4 5 6 7 8 9\n",
      "[12:24:36] Can't kekulize mol.  Unkekulized atoms: 0 1 2 4 5 6 7 8 9 10\n",
      "[12:24:36] ERROR: Could not sanitize molecule ending on line 508068\n",
      "[12:24:36] ERROR: Can't kekulize mol.  Unkekulized atoms: 0 1 2 4 5 6 7 8 9 10\n",
      "[12:24:36] Can't kekulize mol.  Unkekulized atoms: 1 2 3 4 5 6 7 8 9\n",
      "[12:24:36] ERROR: Could not sanitize molecule ending on line 510069\n",
      "[12:24:36] ERROR: Can't kekulize mol.  Unkekulized atoms: 1 2 3 4 5 6 7 8 9\n",
      "[12:24:36] Can't kekulize mol.  Unkekulized atoms: 3 4 5 6 7 8 10\n",
      "[12:24:36] ERROR: Could not sanitize molecule ending on line 511111\n",
      "[12:24:36] ERROR: Can't kekulize mol.  Unkekulized atoms: 3 4 5 6 7 8 10\n",
      "[12:24:36] Can't kekulize mol.  Unkekulized atoms: 1 2 3 5 6 7 8 9 10\n",
      "[12:24:36] ERROR: Could not sanitize molecule ending on line 512030\n",
      "[12:24:36] ERROR: Can't kekulize mol.  Unkekulized atoms: 1 2 3 5 6 7 8 9 10\n",
      "[12:24:36] Explicit valence for atom # 2 O, 3, is greater than permitted\n",
      "[12:24:36] ERROR: Could not sanitize molecule ending on line 519056\n",
      "[12:24:36] ERROR: Explicit valence for atom # 2 O, 3, is greater than permitted\n",
      "[12:24:36] Explicit valence for atom # 6 B, 4, is greater than permitted\n",
      "[12:24:36] ERROR: Could not sanitize molecule ending on line 541262\n",
      "[12:24:36] ERROR: Explicit valence for atom # 6 B, 4, is greater than permitted\n",
      "[12:24:36] Can't kekulize mol.  Unkekulized atoms: 2 3 17 19 20\n",
      "[12:24:36] ERROR: Could not sanitize molecule ending on line 557517\n",
      "[12:24:36] ERROR: Can't kekulize mol.  Unkekulized atoms: 2 3 17 19 20\n",
      "[12:24:36] Can't kekulize mol.  Unkekulized atoms: 0 1 2 4 5 6 7 8 9 10\n",
      "[12:24:36] ERROR: Could not sanitize molecule ending on line 561344\n",
      "[12:24:36] ERROR: Can't kekulize mol.  Unkekulized atoms: 0 1 2 4 5 6 7 8 9 10\n",
      "[12:24:36] Can't kekulize mol.  Unkekulized atoms: 10 11 12 13 19\n",
      "[12:24:36] ERROR: Could not sanitize molecule ending on line 562947\n",
      "[12:24:36] ERROR: Can't kekulize mol.  Unkekulized atoms: 10 11 12 13 19\n",
      "[12:24:36] Explicit valence for atom # 27 N, 4, is greater than permitted\n",
      "[12:24:36] ERROR: Could not sanitize molecule ending on line 567073\n",
      "[12:24:36] ERROR: Explicit valence for atom # 27 N, 4, is greater than permitted\n",
      "[12:24:36] Can't kekulize mol.  Unkekulized atoms: 9 10 11 12 13 14 15 16 17\n",
      "[12:24:36] ERROR: Could not sanitize molecule ending on line 568252\n",
      "[12:24:36] ERROR: Can't kekulize mol.  Unkekulized atoms: 9 10 11 12 13 14 15 16 17\n",
      "[12:24:36] Can't kekulize mol.  Unkekulized atoms: 23 24 25 26 27\n",
      "[12:24:36] ERROR: Could not sanitize molecule ending on line 574645\n",
      "[12:24:36] ERROR: Can't kekulize mol.  Unkekulized atoms: 23 24 25 26 27\n",
      "[12:24:36] Can't kekulize mol.  Unkekulized atoms: 5 6 7 8 9\n",
      "[12:24:36] ERROR: Could not sanitize molecule ending on line 592639\n",
      "[12:24:36] ERROR: Can't kekulize mol.  Unkekulized atoms: 5 6 7 8 9\n",
      "[12:24:36] Explicit valence for atom # 12 N, 4, is greater than permitted\n",
      "[12:24:36] ERROR: Could not sanitize molecule ending on line 595909\n",
      "[12:24:36] ERROR: Explicit valence for atom # 12 N, 4, is greater than permitted\n",
      "[12:24:36] Explicit valence for atom # 0 Br, 2, is greater than permitted\n",
      "[12:24:36] ERROR: Could not sanitize molecule ending on line 599041\n",
      "[12:24:36] ERROR: Explicit valence for atom # 0 Br, 2, is greater than permitted\n",
      "[12:24:36] Explicit valence for atom # 1 N, 4, is greater than permitted\n",
      "[12:24:36] ERROR: Could not sanitize molecule ending on line 601819\n",
      "[12:24:36] ERROR: Explicit valence for atom # 1 N, 4, is greater than permitted\n",
      "[12:24:36] Explicit valence for atom # 6 Be, 4, is greater than permitted\n",
      "[12:24:36] ERROR: Could not sanitize molecule ending on line 604427\n",
      "[12:24:36] ERROR: Explicit valence for atom # 6 Be, 4, is greater than permitted\n",
      "[12:24:36] Can't kekulize mol.  Unkekulized atoms: 4 5 6 7 8 9 10 11 12\n",
      "[12:24:36] ERROR: Could not sanitize molecule ending on line 604912\n",
      "[12:24:36] ERROR: Can't kekulize mol.  Unkekulized atoms: 4 5 6 7 8 9 10 11 12\n",
      "[12:24:36] Can't kekulize mol.  Unkekulized atoms: 5 6 7 8 9 10 11 12 13\n",
      "[12:24:36] ERROR: Could not sanitize molecule ending on line 616025\n",
      "[12:24:36] ERROR: Can't kekulize mol.  Unkekulized atoms: 5 6 7 8 9 10 11 12 13\n",
      "[12:24:36] Can't kekulize mol.  Unkekulized atoms: 1 2 3 5 6 7 8 9 10\n",
      "[12:24:36] ERROR: Could not sanitize molecule ending on line 623202\n",
      "[12:24:36] ERROR: Can't kekulize mol.  Unkekulized atoms: 1 2 3 5 6 7 8 9 10\n",
      "[12:24:36] Can't kekulize mol.  Unkekulized atoms: 5 6 7 8 9 10 11 12 13\n",
      "[12:24:36] ERROR: Could not sanitize molecule ending on line 628065\n",
      "[12:24:36] ERROR: Can't kekulize mol.  Unkekulized atoms: 5 6 7 8 9 10 11 12 13\n",
      "[12:24:36] Explicit valence for atom # 19 N, 4, is greater than permitted\n",
      "[12:24:36] ERROR: Could not sanitize molecule ending on line 636938\n",
      "[12:24:36] ERROR: Explicit valence for atom # 19 N, 4, is greater than permitted\n",
      "[12:24:37] Explicit valence for atom # 0 O, 3, is greater than permitted\n",
      "[12:24:37] ERROR: Could not sanitize molecule ending on line 640674\n",
      "[12:24:37] ERROR: Explicit valence for atom # 0 O, 3, is greater than permitted\n",
      "[12:24:37] Explicit valence for atom # 17 Mg, 4, is greater than permitted\n",
      "[12:24:37] ERROR: Could not sanitize molecule ending on line 642835\n",
      "[12:24:37] ERROR: Explicit valence for atom # 17 Mg, 4, is greater than permitted\n",
      "[12:24:37] Explicit valence for atom # 4 F, 2, is greater than permitted\n",
      "[12:24:37] ERROR: Could not sanitize molecule ending on line 645068\n",
      "[12:24:37] ERROR: Explicit valence for atom # 4 F, 2, is greater than permitted\n",
      "[12:24:37] Can't kekulize mol.  Unkekulized atoms: 0 1 2 4 5 6 7 8 9 10\n",
      "[12:24:37] ERROR: Could not sanitize molecule ending on line 659994\n",
      "[12:24:37] ERROR: Can't kekulize mol.  Unkekulized atoms: 0 1 2 4 5 6 7 8 9 10\n",
      "[12:24:37] Explicit valence for atom # 0 Be, 3, is greater than permitted\n",
      "[12:24:37] ERROR: Could not sanitize molecule ending on line 995692\n",
      "[12:24:37] ERROR: Explicit valence for atom # 0 Be, 3, is greater than permitted\n",
      "[12:24:37] Explicit valence for atom # 0 C greater than permitted\n",
      "[12:24:37] ERROR: Could not sanitize molecule ending on line 1151592\n",
      "[12:24:37] ERROR: Explicit valence for atom # 0 C greater than permitted\n"
     ]
    }
   ],
   "source": [
    "mtor = pd.read_csv(\"../../data/chembl_mtor_ic50.csv\", delimiter=\";\")\n",
    "mtor = mtor[[\"Molecule ChEMBL ID\", \"Smiles\"]]\n",
    "mtor[\"mol\"] = mtor.apply(lambda row: Chem.MolFromSmiles(row[\"Smiles\"]), axis=1)\n",
    "mtor[\"Source\"] = \"mtor\"\n",
    "mtor.rename({\"Molecule ChEMBL ID\":\"ID\"}, axis=1, inplace=True)\n",
    "\n",
    "drugbank_mols =  Chem.SDMolSupplier('../../data/drugbank.sdf')\n",
    "drugbank = [mol for mol in drugbank_mols if mol]\n",
    "pd_drugbank = pd.DataFrame(drugbank, columns=[\"mol\"])\n",
    "pd_drugbank[\"Smiles\"] = pd_drugbank.apply(lambda row: Chem.MolToSmiles(row[\"mol\"]), axis=1)\n",
    "pd_drugbank[\"Source\"] = \"drugbank\"\n",
    "pd_drugbank[\"ID\"] = pd_drugbank.apply(lambda row: row[\"mol\"].GetProp(\"DATABASE_ID\"), axis=1)\n",
    "\n",
    "df = pd.concat([mtor, pd_drugbank]).reset_index(drop=True)"
   ],
   "metadata": {
    "collapsed": false,
    "ExecuteTime": {
     "end_time": "2024-03-21T11:24:38.155509Z",
     "start_time": "2024-03-21T11:24:35.488538Z"
    }
   },
   "id": "d933838df8751b5b",
   "execution_count": 42
  },
  {
   "cell_type": "code",
   "outputs": [
    {
     "data": {
      "text/plain": "<rdkit.rdBase._vecti at 0x7fcc844fee30>"
     },
     "execution_count": 50,
     "metadata": {},
     "output_type": "execute_result"
    }
   ],
   "source": [
    "fp = MACCSkeys.GenMACCSKeys(df[\"mol\"][0])\n",
    "fp.ToList()\n",
    "fp.GetOnBits()"
   ],
   "metadata": {
    "collapsed": false,
    "ExecuteTime": {
     "end_time": "2024-03-21T11:28:48.519506Z",
     "start_time": "2024-03-21T11:28:48.513509Z"
    }
   },
   "id": "7a64d783aa9f9a68",
   "execution_count": 50
  },
  {
   "cell_type": "code",
   "outputs": [],
   "source": [
    "df_data = pd.DataFrame(list(\n",
    "    df.apply(\n",
    "        lambda row: MACCSkeys.GenMACCSKeys(row[\"mol\"]), axis=1)),\n",
    "    columns=[\"MACCS\"])\n",
    "df = df.join(df_data)"
   ],
   "metadata": {
    "collapsed": false,
    "ExecuteTime": {
     "end_time": "2024-03-21T11:28:18.317130Z",
     "start_time": "2024-03-21T11:28:13.324748Z"
    }
   },
   "id": "fdae084a4130f5b9",
   "execution_count": 48
  },
  {
   "cell_type": "code",
   "outputs": [
    {
     "data": {
      "text/plain": "<rdkit.Chem.rdchem.Mol at 0x7fcc8444f6a0>",
      "image/png": "[encoded data removed]"
     },
     "execution_count": 60,
     "metadata": {},
     "output_type": "execute_result"
    }
   ],
   "source": [
    "list(df[\"MACCS\"][0].GetOnBits())\n",
    "df[\"mol\"][0]"
   ],
   "metadata": {
    "collapsed": false,
    "ExecuteTime": {
     "end_time": "2024-03-21T11:31:11.869328Z",
     "start_time": "2024-03-21T11:31:11.860108Z"
    }
   },
   "id": "42560260702ef346",
   "execution_count": 60
  },
  {
   "cell_type": "code",
   "outputs": [],
   "source": [
    "maccs_stats_DB = list(\n",
    "    df[df[\"Source\"] == \"drugbank\"].apply(\n",
    "        lambda row: list(row[\"MACCS\"].GetOnBits()), axis=1))\n",
    "maccs_stats_m = list(\n",
    "    df[df[\"Source\"] == \"mtor\"].apply(\n",
    "        lambda row: list(row[\"MACCS\"].GetOnBits()), axis=1))"
   ],
   "metadata": {
    "collapsed": false,
    "ExecuteTime": {
     "end_time": "2024-03-21T11:36:44.825064Z",
     "start_time": "2024-03-21T11:36:43.541356Z"
    }
   },
   "id": "449335871458b735",
   "execution_count": 69
  },
  {
   "cell_type": "code",
   "outputs": [],
   "source": [
    "maccs_stats_DB_ = {}\n",
    "maccs_stats_m_ = {}\n",
    "for mol in maccs_stats_DB:\n",
    "    for bit in mol:\n",
    "        if not bit in maccs_stats_DB_:\n",
    "            maccs_stats_DB_[bit] = 1\n",
    "        else:    \n",
    "            maccs_stats_DB_[bit] += 1\n",
    "        \n",
    "for mol in maccs_stats_m:\n",
    "    for bit in mol:\n",
    "        if not bit in maccs_stats_m_:\n",
    "            maccs_stats_m_[bit] = 1\n",
    "        else:\n",
    "            maccs_stats_m_[bit] += 1"
   ],
   "metadata": {
    "collapsed": false,
    "ExecuteTime": {
     "end_time": "2024-03-21T11:45:12.330074Z",
     "start_time": "2024-03-21T11:45:12.288838Z"
    }
   },
   "id": "82f26dee008b3448",
   "execution_count": 88
  },
  {
   "cell_type": "code",
   "outputs": [],
   "source": [
    "DB_stats = sorted(maccs_stats_DB_.items(), key=lambda x: -x[1])\n",
    "m_stats = sorted(maccs_stats_m_.items(), key=lambda x: -x[1])"
   ],
   "metadata": {
    "collapsed": false,
    "ExecuteTime": {
     "end_time": "2024-03-21T11:47:43.746281Z",
     "start_time": "2024-03-21T11:47:43.743536Z"
    }
   },
   "id": "b425cf2ad2c8ea68",
   "execution_count": 93
  },
  {
   "cell_type": "code",
   "outputs": [],
   "source": [
    "clen_db = len(df[df[\"Source\"] == \"drugbank\"])\n",
    "count_db = {k: n/clen_db for k, n in DB_stats}\n",
    "clen_m = len(df[df[\"Source\"] == \"mtor\"])\n",
    "count_m = {k: n/clen_m for k, n in m_stats}"
   ],
   "metadata": {
    "collapsed": false,
    "ExecuteTime": {
     "end_time": "2024-03-21T11:52:13.649902Z",
     "start_time": "2024-03-21T11:52:13.643688Z"
    }
   },
   "id": "87aa741c11263ab5",
   "execution_count": 98
  },
  {
   "cell_type": "code",
   "outputs": [],
   "source": [
    "for i in range(167):\n",
    "    if not i in count_db:\n",
    "        count_db[i] = 0\n",
    "    if not i in count_m:\n",
    "        count_m[i] = 0"
   ],
   "metadata": {
    "collapsed": false,
    "ExecuteTime": {
     "end_time": "2024-03-21T11:56:23.866083Z",
     "start_time": "2024-03-21T11:56:23.862427Z"
    }
   },
   "id": "e8e636cac2684fd6",
   "execution_count": 105
  },
  {
   "cell_type": "code",
   "outputs": [],
   "source": [
    "dif = {x: count_m[x]-count_db[x] for x in range(167)}"
   ],
   "metadata": {
    "collapsed": false,
    "ExecuteTime": {
     "end_time": "2024-03-21T11:57:26.808900Z",
     "start_time": "2024-03-21T11:57:26.805333Z"
    }
   },
   "id": "594c7c221f2a0755",
   "execution_count": 106
  },
  {
   "cell_type": "code",
   "outputs": [
    {
     "data": {
      "text/plain": "[(139, -0.3830701627843551),\n (90, -0.3485238663147203),\n (91, -0.31666727233150493),\n (123, -0.306653430136928),\n (104, -0.2907119645234574),\n (54, -0.28638650813664823),\n (72, -0.2238740965958333),\n (140, -0.22382757052416438),\n (53, -0.19178349574327738),\n (136, -0.1729773272120807)]"
     },
     "execution_count": 122,
     "metadata": {},
     "output_type": "execute_result"
    }
   ],
   "source": [
    "sorted(dif.items(), key=lambda x: x[1])[:10]"
   ],
   "metadata": {
    "collapsed": false,
    "ExecuteTime": {
     "end_time": "2024-03-21T12:03:49.198109Z",
     "start_time": "2024-03-21T12:03:49.192828Z"
    }
   },
   "id": "5a435243d97f02d6",
   "execution_count": 122
  },
  {
   "cell_type": "code",
   "outputs": [
    {
     "data": {
      "text/plain": "[80, 294, 417, 591, 794, 1057, 1444, 1911]"
     },
     "execution_count": 137,
     "metadata": {},
     "output_type": "execute_result"
    }
   ],
   "source": [
    "mol = Chem.MolFromSmiles(\"CCCCCC\")\n",
    "fp = (Chem.GetMorganFingerprintAsBitVect(mol, 3, 2048))\n",
    "list(fp.GetOnBits())"
   ],
   "metadata": {
    "collapsed": false,
    "ExecuteTime": {
     "end_time": "2024-03-21T12:11:42.229864Z",
     "start_time": "2024-03-21T12:11:42.222691Z"
    }
   },
   "id": "e5403d728d74bc49",
   "execution_count": 137
  },
  {
   "cell_type": "code",
   "outputs": [
    {
     "data": {
      "text/plain": "<rdkit.Chem.rdchem.Mol at 0x7fcc834eb9a0>",
      "image/png": "[encoded data removed]"
     },
     "execution_count": 138,
     "metadata": {},
     "output_type": "execute_result"
    }
   ],
   "source": [
    "fp2 = Chem.GetMorganFingerprint(mol, 3)\n",
    "mol"
   ],
   "metadata": {
    "collapsed": false,
    "ExecuteTime": {
     "end_time": "2024-03-21T12:11:43.851338Z",
     "start_time": "2024-03-21T12:11:43.844323Z"
    }
   },
   "id": "4181e6e0f7b1d8d9",
   "execution_count": 138
  },
  {
   "cell_type": "code",
   "outputs": [
    {
     "data": {
      "text/plain": "{1173125914: 2,\n 1510461303: 2,\n 1685248591: 2,\n 2245384272: 4,\n 2246728737: 2,\n 3213857185: 1,\n 3542456614: 2,\n 3745584548: 2}"
     },
     "execution_count": 139,
     "metadata": {},
     "output_type": "execute_result"
    }
   ],
   "source": [
    "fp2.GetNonzeroElements()"
   ],
   "metadata": {
    "collapsed": false,
    "ExecuteTime": {
     "end_time": "2024-03-21T12:11:45.668573Z",
     "start_time": "2024-03-21T12:11:45.665268Z"
    }
   },
   "id": "df62e76e1939b1ba",
   "execution_count": 139
  },
  {
   "cell_type": "code",
   "outputs": [
    {
     "data": {
      "text/plain": "{1173125914: ((1, 1), (4, 1)),\n 1510461303: ((2, 1), (3, 1)),\n 1685248591: ((1, 2), (4, 2)),\n 2245384272: ((1, 0), (2, 0), (3, 0), (4, 0)),\n 2246728737: ((0, 0), (5, 0)),\n 3213857185: ((2, 3),),\n 3542456614: ((0, 1), (5, 1)),\n 3745584548: ((2, 2), (3, 2))}"
     },
     "execution_count": 140,
     "metadata": {},
     "output_type": "execute_result"
    }
   ],
   "source": [
    "bitinfo = {}\n",
    "fp = Chem.GetMorganFingerprint(mol, 3, bitInfo=bitinfo)\n",
    "bitinfo"
   ],
   "metadata": {
    "collapsed": false,
    "ExecuteTime": {
     "end_time": "2024-03-21T12:11:46.954296Z",
     "start_time": "2024-03-21T12:11:46.948889Z"
    }
   },
   "id": "9beb32ba2c51539d",
   "execution_count": 140
  },
  {
   "cell_type": "code",
   "outputs": [],
   "source": [
    "def mol_frags_to_smiles(mol, radius=3):\n",
    "    bitinfo = {}\n",
    "    fp = Chem.GetMorganFingerprint(mol, radius=radius, bitInfo=bitinfo)\n",
    "    smiles = {}\n",
    "    for k, v in bitinfo.items():\n",
    "        i = v[0]\n",
    "        amap = {}\n",
    "        env = Chem.FindAtomEnvironmentOfRadiusN(mol,i[1],i[0], atomMap=amap)\n",
    "        if len(env) > 0:\n",
    "            submol=Chem.PathToSubmol(mol,env)\n",
    "            smiles[k] = Chem.MolToSmiles(submol)\n",
    "        else:\n",
    "            i = next(iter(amap.keys()))\n",
    "            smiles[k] = mol.GetAtomWithIdx(i).GetSymbol()\n",
    "        \n",
    "    return smiles"
   ],
   "metadata": {
    "collapsed": false,
    "ExecuteTime": {
     "end_time": "2024-03-21T12:41:06.792904Z",
     "start_time": "2024-03-21T12:41:06.789072Z"
    }
   },
   "id": "5bcf4e42e62b8a43",
   "execution_count": 199
  },
  {
   "cell_type": "code",
   "outputs": [
    {
     "data": {
      "text/plain": "'C'"
     },
     "execution_count": 198,
     "metadata": {},
     "output_type": "execute_result"
    }
   ],
   "source": [
    "# molecule, radius, atom\n",
    "amap = {}\n",
    "env = Chem.FindAtomEnvironmentOfRadiusN(mol,0,4, atomMap=amap)\n",
    "submol=Chem.PathToSubmol(mol,env)\n",
    "Chem.MolToSmiles(submol)\n",
    "i = next(iter(amap.keys()))\n",
    "# Chem.MolFromSmiles()\n"
   ],
   "metadata": {
    "collapsed": false,
    "ExecuteTime": {
     "end_time": "2024-03-21T12:40:50.679165Z",
     "start_time": "2024-03-21T12:40:50.674550Z"
    }
   },
   "id": "e944df253131879f",
   "execution_count": 198
  },
  {
   "cell_type": "code",
   "outputs": [
    {
     "data": {
      "text/plain": "{150310: 'ccc(cc)-c(c)n',\n 43357009: 'cNC(C)=O',\n 63829641: 'cnc(nc)NS',\n 64070612: 'cc(-c)n',\n 98513984: 'ccc',\n 186125063: 'SNc1ncccn1',\n 288315894: 'cS(N)(=O)=O',\n 325679369: 'NS(=O)(=O)c1ccccc1F',\n 347464326: 'cnc(nc)NS(=O)(=O)c(c)c',\n 367653851: 'Nc1nc2ccccc2s1',\n 411967733: 'CC(N)=O',\n 601309219: 'cnc(NC(C)=O)sc',\n 617331537: 'ccc(nc)-c1cccc(s)c1',\n 776134841: 'c-c1ccnc(N)n1',\n 814591537: 'ccc1sc(NC)nc1c',\n 847961216: 'N',\n 864942730: 'O',\n 882399112: 'F',\n 948573493: 'cnc1ccc(-c)cc1s',\n 951226070: 'ccc',\n 981811280: 'cS(=O)(=O)Nc(n)n',\n 994485099: 'ccc',\n 999334238: 'S',\n 1012533964: 'cc(c)nc(N)s',\n 1023209243: 'ccnc(n)N',\n 1100037548: 'cnc',\n 1101219341: 'cc1nc(NC(C)=O)sc1c',\n 1101907775: 'cnc',\n 1103832125: 'c-c(n)ccn',\n 1229325558: 'cNS',\n 1269851781: 'ccc(sc)c(c)n',\n 1510328189: 'C=O',\n 1550458325: 'cc(c)-c1ccnc(NS)n1',\n 1790668568: 'CNc',\n 1791271074: 'csc',\n 1857396528: 'cc(c)F',\n 1940357627: 'ccc(F)c(c)S',\n 2041434490: 'N',\n 2149453589: 'ccc(c(c)F)S(N)(=O)=O',\n 2228063684: 'O=S',\n 2246699815: 'C',\n 2246728737: 'C',\n 2278249975: 'cc(c)S(=O)(=O)Nc',\n 2285675676: 'cc(c)sc(n)N',\n 2313611749: 'Fc1ccccc1',\n 2353112200: 'cc(c)-c',\n 2487927669: 'cc(c)s',\n 2521190388: 'ccc(nc)-c(c)c',\n 2556855854: 'nc(n)N',\n 2609658248: 'cc(c)S',\n 2611870730: 'ccc(cc)-c1ccnc(N)n1',\n 2764850725: 'Fc1ccccc1S',\n 2878656757: 'c-c1ccnc(NS(c)(=O)=O)n1',\n 2897564351: 'csc1cc(-c(c)n)ccc1n',\n 2902394255: 'cc(-c)nc(n)N',\n 2905822145: 'cccc(c)n',\n 3105064903: 'Sc1ccccc1',\n 3113855204: 'CC(=O)Nc(n)s',\n 3182824521: 'cc(c)n',\n 3217380708: 'C',\n 3218693969: 'C',\n 3321739581: 'cnc(NC)sc',\n 3337745083: 'cF',\n 3351556771: 'S',\n 3395056930: 'cc(-c)cc(c)s',\n 3406201864: 'cccc(c)F',\n 3462308225: 'nc(N)s',\n 3465076207: 'c-c1ccc2nc(N)sc2c1',\n 3505454479: 'cc(n)-c1ccc(n)cc1',\n 3545365497: 'CC',\n 3768390624: 'cccc(c)S',\n 3776905034: 'ccn',\n 3779051274: 'ccc1nc(NC)sc1c',\n 3865050365: 'cNS(=O)(=O)c1ccccc1F',\n 3982849026: 'ccc(c(c)F)S(=O)(=O)Nc(n)n',\n 3999906991: 'ccccc',\n 4011293459: 'cccnc',\n 4158306861: 'ccc(nc)c(c)s',\n 4176230487: 'cc(c)-c1ccncn1',\n 4216335232: 'cccc(c)-c'}"
     },
     "execution_count": 201,
     "metadata": {},
     "output_type": "execute_result"
    }
   ],
   "source": [
    "mol_frags_to_smiles(df[\"mol\"][0])"
   ],
   "metadata": {
    "collapsed": false,
    "ExecuteTime": {
     "end_time": "2024-03-21T12:41:33.064622Z",
     "start_time": "2024-03-21T12:41:33.057316Z"
    }
   },
   "id": "a793f026e207fa40",
   "execution_count": 201
  }
 ],
 "metadata": {
  "kernelspec": {
   "display_name": "Python 3",
   "language": "python",
   "name": "python3"
  },
  "language_info": {
   "codemirror_mode": {
    "name": "ipython",
    "version": 2
   },
   "file_extension": ".py",
   "mimetype": "text/x-python",
   "name": "python",
   "nbconvert_exporter": "python",
   "pygments_lexer": "ipython2",
   "version": "2.7.6"
  }
 },
 "nbformat": 4,
 "nbformat_minor": 5
}
