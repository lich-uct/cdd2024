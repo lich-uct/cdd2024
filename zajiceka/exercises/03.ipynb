{
 "cells": [
  {
   "cell_type": "code",
   "execution_count": 57,
   "id": "initial_id",
   "metadata": {
    "collapsed": true,
    "ExecuteTime": {
     "end_time": "2024-02-29T12:21:20.755942Z",
     "start_time": "2024-02-29T12:21:20.752621Z"
    }
   },
   "outputs": [],
   "source": [
    "from rdkit.Chem import AllChem as Chem\n",
    "from rdkit.Chem import Descriptors\n",
    "from rdkit.Chem.Draw import IPythonConsole\n",
    "from rdkit.Chem import rdMolDescriptors as rdescriptors\n",
    "\n",
    "import pandas as pd\n",
    "import seaborn as sns"
   ]
  },
  {
   "cell_type": "code",
   "outputs": [
    {
     "data": {
      "text/plain": "  Molecule ChEMBL ID Molecule Name  Molecule Max Phase  Molecular Weight  \\\n0      CHEMBL1773577           NaN                   0            443.49   \n1      CHEMBL1773561           NaN                   0            390.47   \n2      CHEMBL1773077           NaN                   0            406.47   \n3      CHEMBL1773580           NaN                   0            443.49   \n4      CHEMBL1773578           NaN                   0            457.51   \n\n   #RO5 Violations  AlogP Compound Key  \\\n0              0.0   3.65           40   \n1              0.0   4.60           24   \n2              0.0   4.30           25   \n3              0.0   3.65           43   \n4              0.0   3.68           41   \n\n                                              Smiles Standard Type  \\\n0  CC(=O)Nc1nc2ccc(-c3ccnc(NS(=O)(=O)c4ccccc4F)n3...          IC50   \n1     CC(=O)Nc1nc2ccc(-c3ccnc(OCc4cccc(C)c4)n3)cc2s1          IC50   \n2    COc1cccc(COc2nccc(-c3ccc4nc(NC(C)=O)sc4c3)n2)c1          IC50   \n3  CC(=O)Nc1nc2ccc(-c3ccnc(NS(=O)(=O)c4ccc(F)cc4)...          IC50   \n4  CC(=O)Nc1nc2ccc(-c3ccnc(N(C)S(=O)(=O)c4ccccc4F...          IC50   \n\n  Standard Relation  ...  Target ChEMBL ID  \\\n0               '='  ...        CHEMBL2842   \n1               '>'  ...        CHEMBL2842   \n2               '>'  ...        CHEMBL2842   \n3               '='  ...        CHEMBL2842   \n4               '>'  ...        CHEMBL2842   \n\n                            Target Name  Target Organism     Target Type  \\\n0  Serine/threonine-protein kinase mTOR     Homo sapiens  SINGLE PROTEIN   \n1  Serine/threonine-protein kinase mTOR     Homo sapiens  SINGLE PROTEIN   \n2  Serine/threonine-protein kinase mTOR     Homo sapiens  SINGLE PROTEIN   \n3  Serine/threonine-protein kinase mTOR     Homo sapiens  SINGLE PROTEIN   \n4  Serine/threonine-protein kinase mTOR     Homo sapiens  SINGLE PROTEIN   \n\n  Document ChEMBL ID Source ID     Source Description  Document Journal  \\\n0      CHEMBL1773016         1  Scientific Literature     J. Med. Chem.   \n1      CHEMBL1773016         1  Scientific Literature     J. Med. Chem.   \n2      CHEMBL1773016         1  Scientific Literature     J. Med. Chem.   \n3      CHEMBL1773016         1  Scientific Literature     J. Med. Chem.   \n4      CHEMBL1773016         1  Scientific Literature     J. Med. Chem.   \n\n   Document Year  Cell ChEMBL ID  \n0           2011             NaN  \n1           2011             NaN  \n2           2011             NaN  \n3           2011             NaN  \n4           2011             NaN  \n\n[5 rows x 41 columns]",
      "text/html": "<div>\n<style scoped>\n    .dataframe tbody tr th:only-of-type {\n        vertical-align: middle;\n    }\n\n    .dataframe tbody tr th {\n        vertical-align: top;\n    }\n\n    .dataframe thead th {\n        text-align: right;\n    }\n</style>\n<table border=\"1\" class=\"dataframe\">\n  <thead>\n    <tr style=\"text-align: right;\">\n      <th></th>\n      <th>Molecule ChEMBL ID</th>\n      <th>Molecule Name</th>\n      <th>Molecule Max Phase</th>\n      <th>Molecular Weight</th>\n      <th>#RO5 Violations</th>\n      <th>AlogP</th>\n      <th>Compound Key</th>\n      <th>Smiles</th>\n      <th>Standard Type</th>\n      <th>Standard Relation</th>\n      <th>...</th>\n      <th>Target ChEMBL ID</th>\n      <th>Target Name</th>\n      <th>Target Organism</th>\n      <th>Target Type</th>\n      <th>Document ChEMBL ID</th>\n      <th>Source ID</th>\n      <th>Source Description</th>\n      <th>Document Journal</th>\n      <th>Document Year</th>\n      <th>Cell ChEMBL ID</th>\n    </tr>\n  </thead>\n  <tbody>\n    <tr>\n      <th>0</th>\n      <td>CHEMBL1773577</td>\n      <td>NaN</td>\n      <td>0</td>\n      <td>443.49</td>\n      <td>0.0</td>\n      <td>3.65</td>\n      <td>40</td>\n      <td>CC(=O)Nc1nc2ccc(-c3ccnc(NS(=O)(=O)c4ccccc4F)n3...</td>\n      <td>IC50</td>\n      <td>'='</td>\n      <td>...</td>\n      <td>CHEMBL2842</td>\n      <td>Serine/threonine-protein kinase mTOR</td>\n      <td>Homo sapiens</td>\n      <td>SINGLE PROTEIN</td>\n      <td>CHEMBL1773016</td>\n      <td>1</td>\n      <td>Scientific Literature</td>\n      <td>J. Med. Chem.</td>\n      <td>2011</td>\n      <td>NaN</td>\n    </tr>\n    <tr>\n      <th>1</th>\n      <td>CHEMBL1773561</td>\n      <td>NaN</td>\n      <td>0</td>\n      <td>390.47</td>\n      <td>0.0</td>\n      <td>4.60</td>\n      <td>24</td>\n      <td>CC(=O)Nc1nc2ccc(-c3ccnc(OCc4cccc(C)c4)n3)cc2s1</td>\n      <td>IC50</td>\n      <td>'&gt;'</td>\n      <td>...</td>\n      <td>CHEMBL2842</td>\n      <td>Serine/threonine-protein kinase mTOR</td>\n      <td>Homo sapiens</td>\n      <td>SINGLE PROTEIN</td>\n      <td>CHEMBL1773016</td>\n      <td>1</td>\n      <td>Scientific Literature</td>\n      <td>J. Med. Chem.</td>\n      <td>2011</td>\n      <td>NaN</td>\n    </tr>\n    <tr>\n      <th>2</th>\n      <td>CHEMBL1773077</td>\n      <td>NaN</td>\n      <td>0</td>\n      <td>406.47</td>\n      <td>0.0</td>\n      <td>4.30</td>\n      <td>25</td>\n      <td>COc1cccc(COc2nccc(-c3ccc4nc(NC(C)=O)sc4c3)n2)c1</td>\n      <td>IC50</td>\n      <td>'&gt;'</td>\n      <td>...</td>\n      <td>CHEMBL2842</td>\n      <td>Serine/threonine-protein kinase mTOR</td>\n      <td>Homo sapiens</td>\n      <td>SINGLE PROTEIN</td>\n      <td>CHEMBL1773016</td>\n      <td>1</td>\n      <td>Scientific Literature</td>\n      <td>J. Med. Chem.</td>\n      <td>2011</td>\n      <td>NaN</td>\n    </tr>\n    <tr>\n      <th>3</th>\n      <td>CHEMBL1773580</td>\n      <td>NaN</td>\n      <td>0</td>\n      <td>443.49</td>\n      <td>0.0</td>\n      <td>3.65</td>\n      <td>43</td>\n      <td>CC(=O)Nc1nc2ccc(-c3ccnc(NS(=O)(=O)c4ccc(F)cc4)...</td>\n      <td>IC50</td>\n      <td>'='</td>\n      <td>...</td>\n      <td>CHEMBL2842</td>\n      <td>Serine/threonine-protein kinase mTOR</td>\n      <td>Homo sapiens</td>\n      <td>SINGLE PROTEIN</td>\n      <td>CHEMBL1773016</td>\n      <td>1</td>\n      <td>Scientific Literature</td>\n      <td>J. Med. Chem.</td>\n      <td>2011</td>\n      <td>NaN</td>\n    </tr>\n    <tr>\n      <th>4</th>\n      <td>CHEMBL1773578</td>\n      <td>NaN</td>\n      <td>0</td>\n      <td>457.51</td>\n      <td>0.0</td>\n      <td>3.68</td>\n      <td>41</td>\n      <td>CC(=O)Nc1nc2ccc(-c3ccnc(N(C)S(=O)(=O)c4ccccc4F...</td>\n      <td>IC50</td>\n      <td>'&gt;'</td>\n      <td>...</td>\n      <td>CHEMBL2842</td>\n      <td>Serine/threonine-protein kinase mTOR</td>\n      <td>Homo sapiens</td>\n      <td>SINGLE PROTEIN</td>\n      <td>CHEMBL1773016</td>\n      <td>1</td>\n      <td>Scientific Literature</td>\n      <td>J. Med. Chem.</td>\n      <td>2011</td>\n      <td>NaN</td>\n    </tr>\n  </tbody>\n</table>\n<p>5 rows × 41 columns</p>\n</div>"
     },
     "execution_count": 58,
     "metadata": {},
     "output_type": "execute_result"
    }
   ],
   "source": [
    "mtor = pd.read_csv(\"../../data/chembl_mtor_ic50.csv\", delimiter=\";\")\n",
    "mtor.head()"
   ],
   "metadata": {
    "collapsed": false,
    "ExecuteTime": {
     "end_time": "2024-02-29T12:21:20.853912Z",
     "start_time": "2024-02-29T12:21:20.758168Z"
    }
   },
   "id": "b58aba5ef283a3f4",
   "execution_count": 58
  },
  {
   "cell_type": "code",
   "outputs": [
    {
     "name": "stderr",
     "output_type": "stream",
     "text": [
      "[13:21:20] Explicit valence for atom # 7 N, 4, is greater than permitted\n",
      "[13:21:20] ERROR: Could not sanitize molecule ending on line 20009\n",
      "[13:21:20] ERROR: Explicit valence for atom # 7 N, 4, is greater than permitted\n",
      "[13:21:21] Can't kekulize mol.  Unkekulized atoms: 1 2 3 5 6 7 8 9 10\n",
      "[13:21:21] ERROR: Could not sanitize molecule ending on line 250947\n",
      "[13:21:21] ERROR: Can't kekulize mol.  Unkekulized atoms: 1 2 3 5 6 7 8 9 10\n",
      "[13:21:21] Explicit valence for atom # 17 O, 3, is greater than permitted\n",
      "[13:21:21] ERROR: Could not sanitize molecule ending on line 258130\n",
      "[13:21:21] ERROR: Explicit valence for atom # 17 O, 3, is greater than permitted\n",
      "[13:21:21] Can't kekulize mol.  Unkekulized atoms: 57 58 59 60 61 62 63 64 65\n",
      "[13:21:21] ERROR: Could not sanitize molecule ending on line 261581\n",
      "[13:21:21] ERROR: Can't kekulize mol.  Unkekulized atoms: 57 58 59 60 61 62 63 64 65\n",
      "[13:21:21] Explicit valence for atom # 47 Mg, 4, is greater than permitted\n",
      "[13:21:21] ERROR: Could not sanitize molecule ending on line 272221\n",
      "[13:21:21] ERROR: Explicit valence for atom # 47 Mg, 4, is greater than permitted\n",
      "[13:21:21] Can't kekulize mol.  Unkekulized atoms: 0 1 2 6 7 8 9 10 11 12 13 14 15 16 17\n",
      "[13:21:21] ERROR: Could not sanitize molecule ending on line 280661\n",
      "[13:21:21] ERROR: Can't kekulize mol.  Unkekulized atoms: 0 1 2 6 7 8 9 10 11 12 13 14 15 16 17\n",
      "[13:21:21] Explicit valence for atom # 13 Cl, 5, is greater than permitted\n",
      "[13:21:21] ERROR: Could not sanitize molecule ending on line 282635\n",
      "[13:21:21] ERROR: Explicit valence for atom # 13 Cl, 5, is greater than permitted\n",
      "[13:21:21] Can't kekulize mol.  Unkekulized atoms: 3 4 5 6 7 8 10 11 12\n",
      "[13:21:21] ERROR: Could not sanitize molecule ending on line 292762\n",
      "[13:21:21] ERROR: Can't kekulize mol.  Unkekulized atoms: 3 4 5 6 7 8 10 11 12\n",
      "[13:21:21] Can't kekulize mol.  Unkekulized atoms: 0 1 2 4 5 6 7 8 9 10\n",
      "[13:21:21] ERROR: Could not sanitize molecule ending on line 293836\n",
      "[13:21:21] ERROR: Can't kekulize mol.  Unkekulized atoms: 0 1 2 4 5 6 7 8 9 10\n",
      "[13:21:21] Can't kekulize mol.  Unkekulized atoms: 2 3 4 5 6 7 8 9 10\n",
      "[13:21:21] ERROR: Could not sanitize molecule ending on line 302815\n",
      "[13:21:21] ERROR: Can't kekulize mol.  Unkekulized atoms: 2 3 4 5 6 7 8 9 10\n",
      "[13:21:21] Can't kekulize mol.  Unkekulized atoms: 13 14 15 16 22\n",
      "[13:21:21] ERROR: Could not sanitize molecule ending on line 304047\n",
      "[13:21:21] ERROR: Can't kekulize mol.  Unkekulized atoms: 13 14 15 16 22\n",
      "[13:21:21] Explicit valence for atom # 46 Mg, 4, is greater than permitted\n",
      "[13:21:21] ERROR: Could not sanitize molecule ending on line 312454\n",
      "[13:21:21] ERROR: Explicit valence for atom # 46 Mg, 4, is greater than permitted\n",
      "[13:21:21] Explicit valence for atom # 27 N, 4, is greater than permitted\n",
      "[13:21:21] ERROR: Could not sanitize molecule ending on line 317905\n",
      "[13:21:21] ERROR: Explicit valence for atom # 27 N, 4, is greater than permitted\n",
      "[13:21:21] Explicit valence for atom # 16 N, 4, is greater than permitted\n",
      "[13:21:21] ERROR: Could not sanitize molecule ending on line 318439\n",
      "[13:21:21] ERROR: Explicit valence for atom # 16 N, 4, is greater than permitted\n",
      "[13:21:21] Can't kekulize mol.  Unkekulized atoms: 3 4 5 6 54\n",
      "[13:21:21] ERROR: Could not sanitize molecule ending on line 324910\n",
      "[13:21:21] ERROR: Can't kekulize mol.  Unkekulized atoms: 3 4 5 6 54\n",
      "[13:21:21] Can't kekulize mol.  Unkekulized atoms: 3 4 5 6 7\n",
      "[13:21:21] ERROR: Could not sanitize molecule ending on line 326050\n",
      "[13:21:21] ERROR: Can't kekulize mol.  Unkekulized atoms: 3 4 5 6 7\n",
      "[13:21:21] Can't kekulize mol.  Unkekulized atoms: 2 3 4 5 11\n",
      "[13:21:21] ERROR: Could not sanitize molecule ending on line 331986\n",
      "[13:21:21] ERROR: Can't kekulize mol.  Unkekulized atoms: 2 3 4 5 11\n",
      "[13:21:21] Can't kekulize mol.  Unkekulized atoms: 1 2 3 4 5 6 7 8 9\n",
      "[13:21:21] ERROR: Could not sanitize molecule ending on line 333287\n",
      "[13:21:21] ERROR: Can't kekulize mol.  Unkekulized atoms: 1 2 3 4 5 6 7 8 9\n",
      "[13:21:21] Can't kekulize mol.  Unkekulized atoms: 3 4 5 6 7\n",
      "[13:21:21] ERROR: Could not sanitize molecule ending on line 347574\n",
      "[13:21:21] ERROR: Can't kekulize mol.  Unkekulized atoms: 3 4 5 6 7\n",
      "[13:21:21] Can't kekulize mol.  Unkekulized atoms: 5 6 7 8 9 10 11 12 13\n",
      "[13:21:21] ERROR: Could not sanitize molecule ending on line 357505\n",
      "[13:21:21] ERROR: Can't kekulize mol.  Unkekulized atoms: 5 6 7 8 9 10 11 12 13\n",
      "[13:21:21] Can't kekulize mol.  Unkekulized atoms: 3 4 5 6 7\n",
      "[13:21:21] ERROR: Could not sanitize molecule ending on line 371006\n",
      "[13:21:21] ERROR: Can't kekulize mol.  Unkekulized atoms: 3 4 5 6 7\n",
      "[13:21:21] Can't kekulize mol.  Unkekulized atoms: 1 2 3 4 5 6 7 8 9\n",
      "[13:21:21] ERROR: Could not sanitize molecule ending on line 378618\n",
      "[13:21:21] ERROR: Can't kekulize mol.  Unkekulized atoms: 1 2 3 4 5 6 7 8 9\n",
      "[13:21:21] Explicit valence for atom # 56 O, 3, is greater than permitted\n",
      "[13:21:21] ERROR: Could not sanitize molecule ending on line 398455\n",
      "[13:21:21] ERROR: Explicit valence for atom # 56 O, 3, is greater than permitted\n",
      "[13:21:21] Can't kekulize mol.  Unkekulized atoms: 9 10 11 12 18\n",
      "[13:21:21] ERROR: Could not sanitize molecule ending on line 407765\n",
      "[13:21:21] ERROR: Can't kekulize mol.  Unkekulized atoms: 9 10 11 12 18\n",
      "[13:21:21] Explicit valence for atom # 46 Mg, 4, is greater than permitted\n",
      "[13:21:21] ERROR: Could not sanitize molecule ending on line 417941\n",
      "[13:21:21] ERROR: Explicit valence for atom # 46 Mg, 4, is greater than permitted\n",
      "[13:21:21] Can't kekulize mol.  Unkekulized atoms: 1 2 3 12 13 14 15 16 17\n",
      "[13:21:21] ERROR: Could not sanitize molecule ending on line 422810\n",
      "[13:21:21] ERROR: Can't kekulize mol.  Unkekulized atoms: 1 2 3 12 13 14 15 16 17\n",
      "[13:21:21] Can't kekulize mol.  Unkekulized atoms: 44 45 46 47 49\n",
      "[13:21:21] ERROR: Could not sanitize molecule ending on line 425190\n",
      "[13:21:21] ERROR: Can't kekulize mol.  Unkekulized atoms: 44 45 46 47 49\n",
      "[13:21:21] Explicit valence for atom # 8 N, 5, is greater than permitted\n",
      "[13:21:21] ERROR: Could not sanitize molecule ending on line 426332\n",
      "[13:21:21] ERROR: Explicit valence for atom # 8 N, 5, is greater than permitted\n",
      "[13:21:21] Can't kekulize mol.  Unkekulized atoms: 54 55 56 57 58 59 60 61 62\n",
      "[13:21:21] ERROR: Could not sanitize molecule ending on line 427901\n",
      "[13:21:21] ERROR: Can't kekulize mol.  Unkekulized atoms: 54 55 56 57 58 59 60 61 62\n",
      "[13:21:21] Can't kekulize mol.  Unkekulized atoms: 0 1 2 3 4 5 6 7 8\n",
      "[13:21:21] ERROR: Could not sanitize molecule ending on line 432118\n",
      "[13:21:21] ERROR: Can't kekulize mol.  Unkekulized atoms: 0 1 2 3 4 5 6 7 8\n",
      "[13:21:21] Can't kekulize mol.  Unkekulized atoms: 3 4 5 6 8 9 10\n",
      "[13:21:21] ERROR: Could not sanitize molecule ending on line 442989\n",
      "[13:21:21] ERROR: Can't kekulize mol.  Unkekulized atoms: 3 4 5 6 8 9 10\n",
      "[13:21:21] Can't kekulize mol.  Unkekulized atoms: 3 4 5 6 9\n",
      "[13:21:21] ERROR: Could not sanitize molecule ending on line 447465\n",
      "[13:21:21] ERROR: Can't kekulize mol.  Unkekulized atoms: 3 4 5 6 9\n",
      "[13:21:21] Can't kekulize mol.  Unkekulized atoms: 16 17 18 19 20\n",
      "[13:21:21] ERROR: Could not sanitize molecule ending on line 466177\n",
      "[13:21:21] ERROR: Can't kekulize mol.  Unkekulized atoms: 16 17 18 19 20\n",
      "[13:21:21] Can't kekulize mol.  Unkekulized atoms: 7 8 9 10 17\n",
      "[13:21:21] ERROR: Could not sanitize molecule ending on line 468852\n",
      "[13:21:21] ERROR: Can't kekulize mol.  Unkekulized atoms: 7 8 9 10 17\n",
      "[13:21:21] Can't kekulize mol.  Unkekulized atoms: 3 4 5 6 7 8 9 10 11\n",
      "[13:21:21] ERROR: Could not sanitize molecule ending on line 469201\n",
      "[13:21:21] ERROR: Can't kekulize mol.  Unkekulized atoms: 3 4 5 6 7 8 9 10 11\n",
      "[13:21:21] Explicit valence for atom # 53 N, 4, is greater than permitted\n",
      "[13:21:21] ERROR: Could not sanitize molecule ending on line 472285\n",
      "[13:21:21] ERROR: Explicit valence for atom # 53 N, 4, is greater than permitted\n",
      "[13:21:21] Can't kekulize mol.  Unkekulized atoms: 2 3 4 5 12\n",
      "[13:21:21] ERROR: Could not sanitize molecule ending on line 480504\n",
      "[13:21:21] ERROR: Can't kekulize mol.  Unkekulized atoms: 2 3 4 5 12\n",
      "[13:21:21] Explicit valence for atom # 2 O, 3, is greater than permitted\n",
      "[13:21:21] ERROR: Could not sanitize molecule ending on line 499305\n",
      "[13:21:21] ERROR: Explicit valence for atom # 2 O, 3, is greater than permitted\n",
      "[13:21:21] Can't kekulize mol.  Unkekulized atoms: 1 2 3 4 5 6 7 8 9\n",
      "[13:21:21] ERROR: Could not sanitize molecule ending on line 503342\n",
      "[13:21:21] ERROR: Can't kekulize mol.  Unkekulized atoms: 1 2 3 4 5 6 7 8 9\n",
      "[13:21:21] Can't kekulize mol.  Unkekulized atoms: 0 1 2 4 5 6 7 8 9 10\n",
      "[13:21:21] ERROR: Could not sanitize molecule ending on line 508068\n",
      "[13:21:21] ERROR: Can't kekulize mol.  Unkekulized atoms: 0 1 2 4 5 6 7 8 9 10\n",
      "[13:21:21] Can't kekulize mol.  Unkekulized atoms: 1 2 3 4 5 6 7 8 9\n",
      "[13:21:21] ERROR: Could not sanitize molecule ending on line 510069\n",
      "[13:21:21] ERROR: Can't kekulize mol.  Unkekulized atoms: 1 2 3 4 5 6 7 8 9\n",
      "[13:21:21] Can't kekulize mol.  Unkekulized atoms: 3 4 5 6 7 8 10\n",
      "[13:21:21] ERROR: Could not sanitize molecule ending on line 511111\n",
      "[13:21:21] ERROR: Can't kekulize mol.  Unkekulized atoms: 3 4 5 6 7 8 10\n",
      "[13:21:21] Can't kekulize mol.  Unkekulized atoms: 1 2 3 5 6 7 8 9 10\n",
      "[13:21:21] ERROR: Could not sanitize molecule ending on line 512030\n",
      "[13:21:21] ERROR: Can't kekulize mol.  Unkekulized atoms: 1 2 3 5 6 7 8 9 10\n",
      "[13:21:21] Explicit valence for atom # 2 O, 3, is greater than permitted\n",
      "[13:21:21] ERROR: Could not sanitize molecule ending on line 519056\n",
      "[13:21:21] ERROR: Explicit valence for atom # 2 O, 3, is greater than permitted\n",
      "[13:21:22] Explicit valence for atom # 6 B, 4, is greater than permitted\n",
      "[13:21:22] ERROR: Could not sanitize molecule ending on line 541262\n",
      "[13:21:22] ERROR: Explicit valence for atom # 6 B, 4, is greater than permitted\n",
      "[13:21:22] Can't kekulize mol.  Unkekulized atoms: 2 3 17 19 20\n",
      "[13:21:22] ERROR: Could not sanitize molecule ending on line 557517\n",
      "[13:21:22] ERROR: Can't kekulize mol.  Unkekulized atoms: 2 3 17 19 20\n",
      "[13:21:22] Can't kekulize mol.  Unkekulized atoms: 0 1 2 4 5 6 7 8 9 10\n",
      "[13:21:22] ERROR: Could not sanitize molecule ending on line 561344\n",
      "[13:21:22] ERROR: Can't kekulize mol.  Unkekulized atoms: 0 1 2 4 5 6 7 8 9 10\n",
      "[13:21:22] Can't kekulize mol.  Unkekulized atoms: 10 11 12 13 19\n",
      "[13:21:22] ERROR: Could not sanitize molecule ending on line 562947\n",
      "[13:21:22] ERROR: Can't kekulize mol.  Unkekulized atoms: 10 11 12 13 19\n",
      "[13:21:22] Explicit valence for atom # 27 N, 4, is greater than permitted\n",
      "[13:21:22] ERROR: Could not sanitize molecule ending on line 567073\n",
      "[13:21:22] ERROR: Explicit valence for atom # 27 N, 4, is greater than permitted\n",
      "[13:21:22] Can't kekulize mol.  Unkekulized atoms: 9 10 11 12 13 14 15 16 17\n",
      "[13:21:22] ERROR: Could not sanitize molecule ending on line 568252\n",
      "[13:21:22] ERROR: Can't kekulize mol.  Unkekulized atoms: 9 10 11 12 13 14 15 16 17\n",
      "[13:21:22] Can't kekulize mol.  Unkekulized atoms: 23 24 25 26 27\n",
      "[13:21:22] ERROR: Could not sanitize molecule ending on line 574645\n",
      "[13:21:22] ERROR: Can't kekulize mol.  Unkekulized atoms: 23 24 25 26 27\n",
      "[13:21:22] Can't kekulize mol.  Unkekulized atoms: 5 6 7 8 9\n",
      "[13:21:22] ERROR: Could not sanitize molecule ending on line 592639\n",
      "[13:21:22] ERROR: Can't kekulize mol.  Unkekulized atoms: 5 6 7 8 9\n",
      "[13:21:22] Explicit valence for atom # 12 N, 4, is greater than permitted\n",
      "[13:21:22] ERROR: Could not sanitize molecule ending on line 595909\n",
      "[13:21:22] ERROR: Explicit valence for atom # 12 N, 4, is greater than permitted\n",
      "[13:21:22] Explicit valence for atom # 0 Br, 2, is greater than permitted\n",
      "[13:21:22] ERROR: Could not sanitize molecule ending on line 599041\n",
      "[13:21:22] ERROR: Explicit valence for atom # 0 Br, 2, is greater than permitted\n",
      "[13:21:22] Explicit valence for atom # 1 N, 4, is greater than permitted\n",
      "[13:21:22] ERROR: Could not sanitize molecule ending on line 601819\n",
      "[13:21:22] ERROR: Explicit valence for atom # 1 N, 4, is greater than permitted\n",
      "[13:21:22] Explicit valence for atom # 6 Be, 4, is greater than permitted\n",
      "[13:21:22] ERROR: Could not sanitize molecule ending on line 604427\n",
      "[13:21:22] ERROR: Explicit valence for atom # 6 Be, 4, is greater than permitted\n",
      "[13:21:22] Can't kekulize mol.  Unkekulized atoms: 4 5 6 7 8 9 10 11 12\n",
      "[13:21:22] ERROR: Could not sanitize molecule ending on line 604912\n",
      "[13:21:22] ERROR: Can't kekulize mol.  Unkekulized atoms: 4 5 6 7 8 9 10 11 12\n",
      "[13:21:22] Can't kekulize mol.  Unkekulized atoms: 5 6 7 8 9 10 11 12 13\n",
      "[13:21:22] ERROR: Could not sanitize molecule ending on line 616025\n",
      "[13:21:22] ERROR: Can't kekulize mol.  Unkekulized atoms: 5 6 7 8 9 10 11 12 13\n",
      "[13:21:22] Can't kekulize mol.  Unkekulized atoms: 1 2 3 5 6 7 8 9 10\n",
      "[13:21:22] ERROR: Could not sanitize molecule ending on line 623202\n",
      "[13:21:22] ERROR: Can't kekulize mol.  Unkekulized atoms: 1 2 3 5 6 7 8 9 10\n",
      "[13:21:22] Can't kekulize mol.  Unkekulized atoms: 5 6 7 8 9 10 11 12 13\n",
      "[13:21:22] ERROR: Could not sanitize molecule ending on line 628065\n",
      "[13:21:22] ERROR: Can't kekulize mol.  Unkekulized atoms: 5 6 7 8 9 10 11 12 13\n",
      "[13:21:22] Explicit valence for atom # 19 N, 4, is greater than permitted\n",
      "[13:21:22] ERROR: Could not sanitize molecule ending on line 636938\n",
      "[13:21:22] ERROR: Explicit valence for atom # 19 N, 4, is greater than permitted\n",
      "[13:21:22] Explicit valence for atom # 0 O, 3, is greater than permitted\n",
      "[13:21:22] ERROR: Could not sanitize molecule ending on line 640674\n",
      "[13:21:22] ERROR: Explicit valence for atom # 0 O, 3, is greater than permitted\n",
      "[13:21:22] Explicit valence for atom # 17 Mg, 4, is greater than permitted\n",
      "[13:21:22] ERROR: Could not sanitize molecule ending on line 642835\n",
      "[13:21:22] ERROR: Explicit valence for atom # 17 Mg, 4, is greater than permitted\n",
      "[13:21:22] Explicit valence for atom # 4 F, 2, is greater than permitted\n",
      "[13:21:22] ERROR: Could not sanitize molecule ending on line 645068\n",
      "[13:21:22] ERROR: Explicit valence for atom # 4 F, 2, is greater than permitted\n",
      "[13:21:22] Can't kekulize mol.  Unkekulized atoms: 0 1 2 4 5 6 7 8 9 10\n",
      "[13:21:22] ERROR: Could not sanitize molecule ending on line 659994\n",
      "[13:21:22] ERROR: Can't kekulize mol.  Unkekulized atoms: 0 1 2 4 5 6 7 8 9 10\n",
      "[13:21:22] Explicit valence for atom # 0 Be, 3, is greater than permitted\n",
      "[13:21:22] ERROR: Could not sanitize molecule ending on line 995692\n",
      "[13:21:22] ERROR: Explicit valence for atom # 0 Be, 3, is greater than permitted\n",
      "[13:21:23] Explicit valence for atom # 0 C greater than permitted\n",
      "[13:21:23] ERROR: Could not sanitize molecule ending on line 1151592\n",
      "[13:21:23] ERROR: Explicit valence for atom # 0 C greater than permitted\n"
     ]
    }
   ],
   "source": [
    "mols =  Chem.SDMolSupplier('../../data/drugbank.sdf')\n",
    "drugbank = [mol for mol in mols if mol]"
   ],
   "metadata": {
    "collapsed": false,
    "ExecuteTime": {
     "end_time": "2024-02-29T12:21:23.279678Z",
     "start_time": "2024-02-29T12:21:20.854979Z"
    }
   },
   "id": "82897928e8bce233",
   "execution_count": 59
  },
  {
   "cell_type": "code",
   "outputs": [
    {
     "data": {
      "text/plain": "              ID                                             Smiles  \\\n0  CHEMBL1773577  CC(=O)Nc1nc2ccc(-c3ccnc(NS(=O)(=O)c4ccccc4F)n3...   \n1  CHEMBL1773561     CC(=O)Nc1nc2ccc(-c3ccnc(OCc4cccc(C)c4)n3)cc2s1   \n2  CHEMBL1773077    COc1cccc(COc2nccc(-c3ccc4nc(NC(C)=O)sc4c3)n2)c1   \n3  CHEMBL1773580  CC(=O)Nc1nc2ccc(-c3ccnc(NS(=O)(=O)c4ccc(F)cc4)...   \n4  CHEMBL1773578  CC(=O)Nc1nc2ccc(-c3ccnc(N(C)S(=O)(=O)c4ccccc4F...   \n\n                                                mol Source  \n0  <rdkit.Chem.rdchem.Mol object at 0x7f4dcf8b3040>   mtor  \n1  <rdkit.Chem.rdchem.Mol object at 0x7f4dcf8b30a0>   mtor  \n2  <rdkit.Chem.rdchem.Mol object at 0x7f4dcf8b25c0>   mtor  \n3  <rdkit.Chem.rdchem.Mol object at 0x7f4dcf8b3160>   mtor  \n4  <rdkit.Chem.rdchem.Mol object at 0x7f4dcf8b3280>   mtor  ",
      "text/html": "<div>\n<style scoped>\n    .dataframe tbody tr th:only-of-type {\n        vertical-align: middle;\n    }\n\n    .dataframe tbody tr th {\n        vertical-align: top;\n    }\n\n    .dataframe thead th {\n        text-align: right;\n    }\n</style>\n<table border=\"1\" class=\"dataframe\">\n  <thead>\n    <tr style=\"text-align: right;\">\n      <th></th>\n      <th>ID</th>\n      <th>Smiles</th>\n      <th>mol</th>\n      <th>Source</th>\n    </tr>\n  </thead>\n  <tbody>\n    <tr>\n      <th>0</th>\n      <td>CHEMBL1773577</td>\n      <td>CC(=O)Nc1nc2ccc(-c3ccnc(NS(=O)(=O)c4ccccc4F)n3...</td>\n      <td>&lt;rdkit.Chem.rdchem.Mol object at 0x7f4dcf8b3040&gt;</td>\n      <td>mtor</td>\n    </tr>\n    <tr>\n      <th>1</th>\n      <td>CHEMBL1773561</td>\n      <td>CC(=O)Nc1nc2ccc(-c3ccnc(OCc4cccc(C)c4)n3)cc2s1</td>\n      <td>&lt;rdkit.Chem.rdchem.Mol object at 0x7f4dcf8b30a0&gt;</td>\n      <td>mtor</td>\n    </tr>\n    <tr>\n      <th>2</th>\n      <td>CHEMBL1773077</td>\n      <td>COc1cccc(COc2nccc(-c3ccc4nc(NC(C)=O)sc4c3)n2)c1</td>\n      <td>&lt;rdkit.Chem.rdchem.Mol object at 0x7f4dcf8b25c0&gt;</td>\n      <td>mtor</td>\n    </tr>\n    <tr>\n      <th>3</th>\n      <td>CHEMBL1773580</td>\n      <td>CC(=O)Nc1nc2ccc(-c3ccnc(NS(=O)(=O)c4ccc(F)cc4)...</td>\n      <td>&lt;rdkit.Chem.rdchem.Mol object at 0x7f4dcf8b3160&gt;</td>\n      <td>mtor</td>\n    </tr>\n    <tr>\n      <th>4</th>\n      <td>CHEMBL1773578</td>\n      <td>CC(=O)Nc1nc2ccc(-c3ccnc(N(C)S(=O)(=O)c4ccccc4F...</td>\n      <td>&lt;rdkit.Chem.rdchem.Mol object at 0x7f4dcf8b3280&gt;</td>\n      <td>mtor</td>\n    </tr>\n  </tbody>\n</table>\n</div>"
     },
     "execution_count": 60,
     "metadata": {},
     "output_type": "execute_result"
    }
   ],
   "source": [
    "mtor = mtor[[\"Molecule ChEMBL ID\", \"Smiles\"]]\n",
    "mtor[\"mol\"] = mtor.apply(lambda row: Chem.MolFromSmiles(row[\"Smiles\"]), axis=1)\n",
    "mtor[\"Source\"] = \"mtor\"\n",
    "mtor.rename({\"Molecule ChEMBL ID\":\"ID\"}, axis=1, inplace=True)\n",
    "mtor.head()"
   ],
   "metadata": {
    "collapsed": false,
    "ExecuteTime": {
     "end_time": "2024-02-29T12:21:23.848905Z",
     "start_time": "2024-02-29T12:21:23.280635Z"
    }
   },
   "id": "16e7455244377c4f",
   "execution_count": 60
  },
  {
   "cell_type": "code",
   "outputs": [
    {
     "data": {
      "text/plain": "                                                mol  \\\n0  <rdkit.Chem.rdchem.Mol object at 0x7f4dcf8b12a0>   \n1  <rdkit.Chem.rdchem.Mol object at 0x7f4dcf8b1c60>   \n2  <rdkit.Chem.rdchem.Mol object at 0x7f4dcf8b13c0>   \n3  <rdkit.Chem.rdchem.Mol object at 0x7f4dcf8b1240>   \n4  <rdkit.Chem.rdchem.Mol object at 0x7f4dcf8b0ac0>   \n\n                                              Smiles    Source       ID  \n0  CC[C@H](C)[C@H](NC(=O)[C@H](CCC(=O)O)NC(=O)[C@...  drugbank  DB00006  \n1  CC(C)C[C@H](NC(=O)[C@@H](COC(C)(C)C)NC(=O)[C@H...  drugbank  DB00014  \n2  N=C(N)NCCC[C@H](NC(=O)[C@@H]1CCCN1C(=O)[C@@H]1...  drugbank  DB00035  \n3  CC(=O)N[C@H](Cc1ccc2ccccc2c1)C(=O)N[C@H](Cc1cc...  drugbank  DB00050  \n4  C/C=C/C[C@@H](C)[C@@H](O)[C@H]1C(=O)N[C@@H](CC...  drugbank  DB00091  ",
      "text/html": "<div>\n<style scoped>\n    .dataframe tbody tr th:only-of-type {\n        vertical-align: middle;\n    }\n\n    .dataframe tbody tr th {\n        vertical-align: top;\n    }\n\n    .dataframe thead th {\n        text-align: right;\n    }\n</style>\n<table border=\"1\" class=\"dataframe\">\n  <thead>\n    <tr style=\"text-align: right;\">\n      <th></th>\n      <th>mol</th>\n      <th>Smiles</th>\n      <th>Source</th>\n      <th>ID</th>\n    </tr>\n  </thead>\n  <tbody>\n    <tr>\n      <th>0</th>\n      <td>&lt;rdkit.Chem.rdchem.Mol object at 0x7f4dcf8b12a0&gt;</td>\n      <td>CC[C@H](C)[C@H](NC(=O)[C@H](CCC(=O)O)NC(=O)[C@...</td>\n      <td>drugbank</td>\n      <td>DB00006</td>\n    </tr>\n    <tr>\n      <th>1</th>\n      <td>&lt;rdkit.Chem.rdchem.Mol object at 0x7f4dcf8b1c60&gt;</td>\n      <td>CC(C)C[C@H](NC(=O)[C@@H](COC(C)(C)C)NC(=O)[C@H...</td>\n      <td>drugbank</td>\n      <td>DB00014</td>\n    </tr>\n    <tr>\n      <th>2</th>\n      <td>&lt;rdkit.Chem.rdchem.Mol object at 0x7f4dcf8b13c0&gt;</td>\n      <td>N=C(N)NCCC[C@H](NC(=O)[C@@H]1CCCN1C(=O)[C@@H]1...</td>\n      <td>drugbank</td>\n      <td>DB00035</td>\n    </tr>\n    <tr>\n      <th>3</th>\n      <td>&lt;rdkit.Chem.rdchem.Mol object at 0x7f4dcf8b1240&gt;</td>\n      <td>CC(=O)N[C@H](Cc1ccc2ccccc2c1)C(=O)N[C@H](Cc1cc...</td>\n      <td>drugbank</td>\n      <td>DB00050</td>\n    </tr>\n    <tr>\n      <th>4</th>\n      <td>&lt;rdkit.Chem.rdchem.Mol object at 0x7f4dcf8b0ac0&gt;</td>\n      <td>C/C=C/C[C@@H](C)[C@@H](O)[C@H]1C(=O)N[C@@H](CC...</td>\n      <td>drugbank</td>\n      <td>DB00091</td>\n    </tr>\n  </tbody>\n</table>\n</div>"
     },
     "execution_count": 61,
     "metadata": {},
     "output_type": "execute_result"
    }
   ],
   "source": [
    "pd_drugbank = pd.DataFrame(drugbank, columns=[\"mol\"])\n",
    "pd_drugbank[\"Smiles\"] = pd_drugbank.apply(lambda row: Chem.MolToSmiles(row[\"mol\"]), axis=1)\n",
    "pd_drugbank[\"Source\"] = \"drugbank\"\n",
    "pd_drugbank[\"ID\"] = pd_drugbank.apply(lambda row: row[\"mol\"].GetProp(\"DATABASE_ID\"), axis=1)\n",
    "pd_drugbank.head()"
   ],
   "metadata": {
    "collapsed": false,
    "ExecuteTime": {
     "end_time": "2024-02-29T12:21:24.275135Z",
     "start_time": "2024-02-29T12:21:23.850262Z"
    }
   },
   "id": "547f5aaa5588fab",
   "execution_count": 61
  },
  {
   "cell_type": "code",
   "outputs": [
    {
     "data": {
      "text/plain": "(155, -8.116429999999927, 29, 28)"
     },
     "execution_count": 62,
     "metadata": {},
     "output_type": "execute_result"
    }
   ],
   "source": [
    "m = pd_drugbank[\"mol\"][0]\n",
    "m.GetNumAtoms(), Descriptors.MolLogP(m), Descriptors.NumHAcceptors(m), Descriptors.NumHDonors(m)"
   ],
   "metadata": {
    "collapsed": false,
    "ExecuteTime": {
     "end_time": "2024-02-29T12:21:24.282070Z",
     "start_time": "2024-02-29T12:21:24.276807Z"
    }
   },
   "id": "dd0fb2da09a5b69f",
   "execution_count": 62
  },
  {
   "cell_type": "code",
   "outputs": [],
   "source": [
    "drugbank_data = pd.DataFrame(list(\n",
    "    pd_drugbank.apply(\n",
    "        lambda row: (row[\"mol\"].GetNumAtoms(),\n",
    "                     Descriptors.MolLogP(row[\"mol\"]),\n",
    "                     Descriptors.NumHAcceptors(row[\"mol\"]),\n",
    "                     Descriptors.NumHDonors(row[\"mol\"])), axis=1)),\n",
    "    columns=[\"NA\", \"LogP\", \"NHA\", \"NHD\"])\n",
    "pd_drugbank = pd_drugbank.join(drugbank_data)"
   ],
   "metadata": {
    "collapsed": false,
    "ExecuteTime": {
     "end_time": "2024-02-29T12:21:25.788223Z",
     "start_time": "2024-02-29T12:21:24.283329Z"
    }
   },
   "id": "3ee58f8f72832b5d",
   "execution_count": 63
  },
  {
   "cell_type": "code",
   "outputs": [],
   "source": [
    "mtor_data = pd.DataFrame(list(\n",
    "    mtor.apply(\n",
    "        lambda row: (row[\"mol\"].GetNumAtoms(),\n",
    "                     Descriptors.MolLogP(row[\"mol\"]),\n",
    "                     Descriptors.NumHAcceptors(row[\"mol\"]),\n",
    "                     Descriptors.NumHDonors(row[\"mol\"])), axis=1)),\n",
    "    columns=[\"NA\", \"LogP\", \"NHA\", \"NHD\"])\n",
    "mtor = mtor.join(mtor_data)"
   ],
   "metadata": {
    "collapsed": false,
    "ExecuteTime": {
     "end_time": "2024-02-29T12:21:26.953424Z",
     "start_time": "2024-02-29T12:21:25.789199Z"
    }
   },
   "id": "c1787385dae557a9",
   "execution_count": 64
  },
  {
   "cell_type": "code",
   "outputs": [
    {
     "data": {
      "text/plain": "<AxesSubplot:>"
     },
     "execution_count": 67,
     "metadata": {},
     "output_type": "execute_result"
    },
    {
     "data": {
      "text/plain": "<Figure size 640x480 with 1 Axes>",
      "image/png": "[encoded data removed]"
     },
     "metadata": {},
     "output_type": "display_data"
    }
   ],
   "source": [
    "mtor.boxplot()"
   ],
   "metadata": {
    "collapsed": false,
    "ExecuteTime": {
     "end_time": "2024-02-29T12:21:53.506296Z",
     "start_time": "2024-02-29T12:21:53.426065Z"
    }
   },
   "id": "7d64a2292fe2e1e0",
   "execution_count": 67
  },
  {
   "cell_type": "code",
   "outputs": [
    {
     "data": {
      "text/plain": "<AxesSubplot:>"
     },
     "execution_count": 69,
     "metadata": {},
     "output_type": "execute_result"
    },
    {
     "data": {
      "text/plain": "<Figure size 640x480 with 1 Axes>",
      "image/png": "[encoded data removed]"
     },
     "metadata": {},
     "output_type": "display_data"
    }
   ],
   "source": [
    "pd_drugbank.boxplot()"
   ],
   "metadata": {
    "collapsed": false,
    "ExecuteTime": {
     "end_time": "2024-02-29T12:22:06.795652Z",
     "start_time": "2024-02-29T12:22:06.730827Z"
    }
   },
   "id": "f65ff4636eea727c",
   "execution_count": 69
  },
  {
   "cell_type": "code",
   "outputs": [],
   "source": [
    "df = pd.concat([mtor, pd_drugbank])"
   ],
   "metadata": {
    "collapsed": false,
    "ExecuteTime": {
     "end_time": "2024-02-29T12:21:26.980589Z",
     "start_time": "2024-02-29T12:21:26.960928Z"
    }
   },
   "id": "fbb7f0476289fd5a",
   "execution_count": 66
  },
  {
   "cell_type": "code",
   "outputs": [
    {
     "data": {
      "text/plain": "array([[<AxesSubplot:title={'center':'LogP'}, xlabel='[Source]'>,\n        <AxesSubplot:title={'center':'NA'}, xlabel='[Source]'>],\n       [<AxesSubplot:title={'center':'NHA'}, xlabel='[Source]'>,\n        <AxesSubplot:title={'center':'NHB'}, xlabel='[Source]'>]],\n      dtype=object)"
     },
     "execution_count": 72,
     "metadata": {},
     "output_type": "execute_result"
    },
    {
     "data": {
      "text/plain": "<Figure size 640x480 with 4 Axes>",
      "image/png": "[encoded data removed]"
     },
     "metadata": {},
     "output_type": "display_data"
    }
   ],
   "source": [
    "df.boxplot(by=\"Source\", showfliers=False)"
   ],
   "metadata": {
    "collapsed": false,
    "ExecuteTime": {
     "end_time": "2024-02-29T12:28:57.345948Z",
     "start_time": "2024-02-29T12:28:57.139057Z"
    }
   },
   "id": "690c552c3adc655b",
   "execution_count": 72
  }
 ],
 "metadata": {
  "kernelspec": {
   "display_name": "Python 3",
   "language": "python",
   "name": "python3"
  },
  "language_info": {
   "codemirror_mode": {
    "name": "ipython",
    "version": 2
   },
   "file_extension": ".py",
   "mimetype": "text/x-python",
   "name": "python",
   "nbconvert_exporter": "python",
   "pygments_lexer": "ipython2",
   "version": "2.7.6"
  }
 },
 "nbformat": 4,
 "nbformat_minor": 5
}
